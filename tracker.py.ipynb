{
 "cells": [
  {
   "cell_type": "code",
   "execution_count": 2,
   "metadata": {},
   "outputs": [],
   "source": [
    "import numpy as np\n",
    "import cv2\n",
    "class tracker():\n",
    "    \n",
    "    def __init__(self,Mywindow_width,Mywindow_height,Mymargin,My_ym = 1,My_xm = 1, Mysmooth_factor = 15):\n",
    "        \n",
    "        \n",
    "        self.recent_centers = []\n",
    "        \n",
    "        self.window_width = Mywindow_width\n",
    "        \n",
    "        self.window_height = Mywindow_height\n",
    "        \n",
    "        self.margin = Mymargin\n",
    "        \n",
    "        self.ym_per_pix = My_ym\n",
    "        self.xm_per_pix = My_xm\n",
    "        self.smooth_factor = Mysmooth_factor\n",
    "        \n",
    "        \n",
    "    def find_window_centroids(self,warped):\n",
    "        \n",
    "        window_width = self.window_width\n",
    "        window_height = self.window_height\n",
    "        margin = self.margin\n",
    "        \n",
    "        window_centroids = []\n",
    "        window = np.ones(window_width)\n",
    "        \n",
    "        l_sum = np.sum(warped[int(3*warped.shape[0]/4):,:int(warped.shape[1]/2)],axis = 0)\n",
    "        l_center = np.argmax(np.convolve(window,l_sum))-window_width/2\n",
    "        r_sum = np.sum(warped[int(3*warped.shape[0]/4):,int(warped.shape[1]/2):],axis = 0)\n",
    "        r_center= np.argmax(np.convolve(window,r_sum))-window_width/2+int(warped.shape[1]/2)\n",
    "        \n",
    "        window_centroids.append((l_center,r_center))\n",
    "\n",
    "        for level in range(1,(int)(warped.shape[0]/window_height)):\n",
    "            \n",
    "            image_layer = np.sum(warped[int(warped.shape[0]-(level+1)*window_height):int(warped.shape[0]-level*window_height),:],axis = 0)\n",
    "            conv_signal = np.convolve(window,image_layer)\n",
    "            \n",
    "            offset = window_width/2\n",
    "            l_min_index = int(max(l_center+offset-margin,0))\n",
    "            l_max_index = int(min(l_center+offset+margin,warped.shape[1]))\n",
    "            l_center =np.argmax(conv_signal[l_min_index:l_max_index])+l_min_index-offset\n",
    "            \n",
    "            r_min_index = int(max(r_center+offset-margin,0))\n",
    "            r_max_index = int(min(r_center+offset+margin,warped.shape[1]))\n",
    "            r_center = np.argmax(conv_signal[r_min_index:r_max_index])+r_min_index-offset\n",
    "            \n",
    "            # add what we found for that layer\n",
    "            \n",
    "            window_centroids.append((l_center,r_center))\n",
    "            \n",
    "        self.recent_centers.append(window_centroids)\n",
    "        # return averaged values of the line ceters, helps to keep the markers from jumping around too much\n",
    "        \n",
    "        return np.average(self.recent_centers[-self.smooth_factor:],axis = 0)"
   ]
  },
  {
   "cell_type": "code",
   "execution_count": null,
   "metadata": {},
   "outputs": [],
   "source": []
  }
 ],
 "metadata": {
  "kernelspec": {
   "display_name": "Python 3",
   "language": "python",
   "name": "python3"
  },
  "language_info": {
   "codemirror_mode": {
    "name": "ipython",
    "version": 3
   },
   "file_extension": ".py",
   "mimetype": "text/x-python",
   "name": "python",
   "nbconvert_exporter": "python",
   "pygments_lexer": "ipython3",
   "version": "3.7.1"
  }
 },
 "nbformat": 4,
 "nbformat_minor": 2
}
